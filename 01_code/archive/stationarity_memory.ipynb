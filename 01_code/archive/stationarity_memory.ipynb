{
 "cells": [
  {
   "cell_type": "code",
   "execution_count": 2,
   "metadata": {},
   "outputs": [],
   "source": [
    "import numpy as np"
   ]
  },
  {
   "cell_type": "code",
   "execution_count": 3,
   "metadata": {},
   "outputs": [],
   "source": [
    "import pandas as pd"
   ]
  },
  {
   "cell_type": "code",
   "execution_count": 4,
   "metadata": {},
   "outputs": [],
   "source": [
    "import matplotlib.pyplot as plt"
   ]
  },
  {
   "cell_type": "code",
   "execution_count": 5,
   "metadata": {},
   "outputs": [],
   "source": [
    "import statsmodels.api as sm"
   ]
  },
  {
   "cell_type": "code",
   "execution_count": 6,
   "metadata": {},
   "outputs": [],
   "source": [
    "import seaborn as sns"
   ]
  },
  {
   "cell_type": "code",
   "execution_count": 7,
   "metadata": {},
   "outputs": [],
   "source": [
    "from scipy import stats"
   ]
  },
  {
   "cell_type": "code",
   "execution_count": 8,
   "metadata": {},
   "outputs": [],
   "source": [
    "from scipy import signal"
   ]
  },
  {
   "cell_type": "code",
   "execution_count": 9,
   "metadata": {},
   "outputs": [],
   "source": [
    "%matplotlib inline"
   ]
  },
  {
   "cell_type": "code",
   "execution_count": 10,
   "metadata": {},
   "outputs": [],
   "source": [
    "####################################\n",
    "#--       INPUT VARIABLES       \n",
    "####################################\n",
    "data_input_dir = \"02_data/input/\"\n",
    "data_intermediate_dir = \"02_data/intermediate/\"\n",
    "data_output_dir = \"02_data/output/\"\n",
    "models_prod_dir = \"03_models/prod/\"\n",
    "models_archive_dir = \"03_models/archive/\"\n",
    "#-- Change to project directory\n",
    "path = 'C:/Users/Mohamed Ibrahim/Box Sync/FX_DATASCIENCE/main_fx'\n",
    "import os\n",
    "#-- Change to project home directory\n",
    "os.chdir(path)\n",
    "exec(open(\"01_code/prod/P1_functions.py\").read())\n"
   ]
  },
  {
   "cell_type": "code",
   "execution_count": 11,
   "metadata": {},
   "outputs": [],
   "source": [
    "def getWeights(d,size):\n",
    "    # thres>0 drops insignificant weights\n",
    "    w=[1.]\n",
    "    for k in range(1,size):\n",
    "        w_=-w[-1]/k*(d-k+1)\n",
    "        w.append(w_)\n",
    "    w=np.array(w[::-1]).reshape(-1,1)\n",
    "    return w"
   ]
  },
  {
   "cell_type": "code",
   "execution_count": 12,
   "metadata": {},
   "outputs": [],
   "source": [
    "def fracDiff(series,d,thres=.01):\n",
    "    #1) Compute weights for the longest series\n",
    "    w=getWeights(d,series.shape[0])\n",
    "    #2) Determine initial calcs to be skipped based on weight-loss threshold\n",
    "    w_=np.cumsum(abs(w))\n",
    "    w_/=w_[-1]\n",
    "    skip=w_[w_>thres].shape[0]\n",
    "    #3) Apply weights to values\n",
    "    df={}\n",
    "    for name in series.columns:\n",
    "        seriesF,df_=series[[name]].fillna(method='ffill').dropna(),pd.Series()\n",
    "        for iloc in range(skip,seriesF.shape[0]):\n",
    "            loc=seriesF.index[iloc]\n",
    "            if not np.isfinite(series.loc[loc,name]):continue # exclude NAs\n",
    "            df_[loc]=np.dot(w[-(iloc+1):,:].T,seriesF.loc[:loc])[0,0]\n",
    "        df[name]=df_.copy(deep=True)\n",
    "    df=pd.concat(df,axis=1)\n",
    "    return df"
   ]
  },
  {
   "cell_type": "code",
   "execution_count": 13,
   "metadata": {},
   "outputs": [],
   "source": [
    "df = pd.read_csv(data_input_dir+\"dt_all_min.csv\")"
   ]
  },
  {
   "cell_type": "code",
   "execution_count": 14,
   "metadata": {},
   "outputs": [
    {
     "data": {
      "text/html": [
       "<div>\n",
       "<style scoped>\n",
       "    .dataframe tbody tr th:only-of-type {\n",
       "        vertical-align: middle;\n",
       "    }\n",
       "\n",
       "    .dataframe tbody tr th {\n",
       "        vertical-align: top;\n",
       "    }\n",
       "\n",
       "    .dataframe thead th {\n",
       "        text-align: right;\n",
       "    }\n",
       "</style>\n",
       "<table border=\"1\" class=\"dataframe\">\n",
       "  <thead>\n",
       "    <tr style=\"text-align: right;\">\n",
       "      <th></th>\n",
       "      <th>Time</th>\n",
       "      <th>Open_EURUSD</th>\n",
       "      <th>High_EURUSD</th>\n",
       "      <th>Low_EURUSD</th>\n",
       "      <th>Close_EURUSD</th>\n",
       "      <th>Open_USDJPY</th>\n",
       "      <th>High_USDJPY</th>\n",
       "      <th>Low_USDJPY</th>\n",
       "      <th>Close_USDJPY</th>\n",
       "      <th>Open_GBPUSD</th>\n",
       "      <th>...</th>\n",
       "      <th>Low_NZDUSD</th>\n",
       "      <th>Close_NZDUSD</th>\n",
       "      <th>Open_AUDUSD</th>\n",
       "      <th>High_AUDUSD</th>\n",
       "      <th>Low_AUDUSD</th>\n",
       "      <th>Close_AUDUSD</th>\n",
       "      <th>Open_XAUUSD</th>\n",
       "      <th>High_XAUUSD</th>\n",
       "      <th>Low_XAUUSD</th>\n",
       "      <th>Close_XAUUSD</th>\n",
       "    </tr>\n",
       "  </thead>\n",
       "  <tbody>\n",
       "    <tr>\n",
       "      <th>0</th>\n",
       "      <td>2004-06-01 00:00:00</td>\n",
       "      <td>1.21912</td>\n",
       "      <td>1.21931</td>\n",
       "      <td>1.21899</td>\n",
       "      <td>1.21931</td>\n",
       "      <td>109.45</td>\n",
       "      <td>109.46</td>\n",
       "      <td>109.45</td>\n",
       "      <td>109.45</td>\n",
       "      <td>1.83274</td>\n",
       "      <td>...</td>\n",
       "      <td>0.63280</td>\n",
       "      <td>0.63280</td>\n",
       "      <td>0.7157</td>\n",
       "      <td>0.7158</td>\n",
       "      <td>0.7157</td>\n",
       "      <td>0.7157</td>\n",
       "      <td>394.873</td>\n",
       "      <td>394.873</td>\n",
       "      <td>394.873</td>\n",
       "      <td>394.873</td>\n",
       "    </tr>\n",
       "    <tr>\n",
       "      <th>1</th>\n",
       "      <td>2004-06-01 00:01:00</td>\n",
       "      <td>1.21909</td>\n",
       "      <td>1.21943</td>\n",
       "      <td>1.21909</td>\n",
       "      <td>1.21938</td>\n",
       "      <td>109.42</td>\n",
       "      <td>109.45</td>\n",
       "      <td>109.39</td>\n",
       "      <td>109.42</td>\n",
       "      <td>1.83243</td>\n",
       "      <td>...</td>\n",
       "      <td>0.63295</td>\n",
       "      <td>0.63295</td>\n",
       "      <td>0.7157</td>\n",
       "      <td>0.7161</td>\n",
       "      <td>0.7157</td>\n",
       "      <td>0.7161</td>\n",
       "      <td>394.873</td>\n",
       "      <td>394.873</td>\n",
       "      <td>394.873</td>\n",
       "      <td>394.873</td>\n",
       "    </tr>\n",
       "    <tr>\n",
       "      <th>2</th>\n",
       "      <td>2004-06-01 00:02:00</td>\n",
       "      <td>1.21913</td>\n",
       "      <td>1.21945</td>\n",
       "      <td>1.21912</td>\n",
       "      <td>1.21913</td>\n",
       "      <td>109.43</td>\n",
       "      <td>109.47</td>\n",
       "      <td>109.41</td>\n",
       "      <td>109.41</td>\n",
       "      <td>1.83310</td>\n",
       "      <td>...</td>\n",
       "      <td>0.63288</td>\n",
       "      <td>0.63330</td>\n",
       "      <td>0.7161</td>\n",
       "      <td>0.7161</td>\n",
       "      <td>0.7157</td>\n",
       "      <td>0.7157</td>\n",
       "      <td>394.873</td>\n",
       "      <td>394.873</td>\n",
       "      <td>394.873</td>\n",
       "      <td>394.873</td>\n",
       "    </tr>\n",
       "    <tr>\n",
       "      <th>3</th>\n",
       "      <td>2004-06-01 00:03:00</td>\n",
       "      <td>1.21920</td>\n",
       "      <td>1.21937</td>\n",
       "      <td>1.21909</td>\n",
       "      <td>1.21937</td>\n",
       "      <td>109.41</td>\n",
       "      <td>109.44</td>\n",
       "      <td>109.40</td>\n",
       "      <td>109.41</td>\n",
       "      <td>1.83285</td>\n",
       "      <td>...</td>\n",
       "      <td>0.63335</td>\n",
       "      <td>0.63345</td>\n",
       "      <td>0.7157</td>\n",
       "      <td>0.7160</td>\n",
       "      <td>0.7157</td>\n",
       "      <td>0.7159</td>\n",
       "      <td>394.873</td>\n",
       "      <td>394.873</td>\n",
       "      <td>394.873</td>\n",
       "      <td>394.873</td>\n",
       "    </tr>\n",
       "    <tr>\n",
       "      <th>4</th>\n",
       "      <td>2004-06-01 00:04:00</td>\n",
       "      <td>1.21926</td>\n",
       "      <td>1.21944</td>\n",
       "      <td>1.21918</td>\n",
       "      <td>1.21930</td>\n",
       "      <td>109.43</td>\n",
       "      <td>109.45</td>\n",
       "      <td>109.39</td>\n",
       "      <td>109.39</td>\n",
       "      <td>1.83261</td>\n",
       "      <td>...</td>\n",
       "      <td>0.63307</td>\n",
       "      <td>0.63338</td>\n",
       "      <td>0.7161</td>\n",
       "      <td>0.7163</td>\n",
       "      <td>0.7159</td>\n",
       "      <td>0.7162</td>\n",
       "      <td>394.873</td>\n",
       "      <td>394.873</td>\n",
       "      <td>394.873</td>\n",
       "      <td>394.873</td>\n",
       "    </tr>\n",
       "  </tbody>\n",
       "</table>\n",
       "<p>5 rows × 33 columns</p>\n",
       "</div>"
      ],
      "text/plain": [
       "                  Time  Open_EURUSD  High_EURUSD  Low_EURUSD  Close_EURUSD  \\\n",
       "0  2004-06-01 00:00:00      1.21912      1.21931     1.21899       1.21931   \n",
       "1  2004-06-01 00:01:00      1.21909      1.21943     1.21909       1.21938   \n",
       "2  2004-06-01 00:02:00      1.21913      1.21945     1.21912       1.21913   \n",
       "3  2004-06-01 00:03:00      1.21920      1.21937     1.21909       1.21937   \n",
       "4  2004-06-01 00:04:00      1.21926      1.21944     1.21918       1.21930   \n",
       "\n",
       "   Open_USDJPY  High_USDJPY  Low_USDJPY  Close_USDJPY  Open_GBPUSD  ...  \\\n",
       "0       109.45       109.46      109.45        109.45      1.83274  ...   \n",
       "1       109.42       109.45      109.39        109.42      1.83243  ...   \n",
       "2       109.43       109.47      109.41        109.41      1.83310  ...   \n",
       "3       109.41       109.44      109.40        109.41      1.83285  ...   \n",
       "4       109.43       109.45      109.39        109.39      1.83261  ...   \n",
       "\n",
       "   Low_NZDUSD  Close_NZDUSD  Open_AUDUSD  High_AUDUSD  Low_AUDUSD  \\\n",
       "0     0.63280       0.63280       0.7157       0.7158      0.7157   \n",
       "1     0.63295       0.63295       0.7157       0.7161      0.7157   \n",
       "2     0.63288       0.63330       0.7161       0.7161      0.7157   \n",
       "3     0.63335       0.63345       0.7157       0.7160      0.7157   \n",
       "4     0.63307       0.63338       0.7161       0.7163      0.7159   \n",
       "\n",
       "   Close_AUDUSD  Open_XAUUSD  High_XAUUSD  Low_XAUUSD  Close_XAUUSD  \n",
       "0        0.7157      394.873      394.873     394.873       394.873  \n",
       "1        0.7161      394.873      394.873     394.873       394.873  \n",
       "2        0.7157      394.873      394.873     394.873       394.873  \n",
       "3        0.7159      394.873      394.873     394.873       394.873  \n",
       "4        0.7162      394.873      394.873     394.873       394.873  \n",
       "\n",
       "[5 rows x 33 columns]"
      ]
     },
     "execution_count": 14,
     "metadata": {},
     "output_type": "execute_result"
    }
   ],
   "source": [
    "df.head()"
   ]
  },
  {
   "cell_type": "code",
   "execution_count": 15,
   "metadata": {},
   "outputs": [],
   "source": [
    "from statsmodels.tsa.stattools import adfuller"
   ]
  },
  {
   "cell_type": "code",
   "execution_count": 16,
   "metadata": {},
   "outputs": [
    {
     "data": {
      "text/plain": [
       "<matplotlib.axes._subplots.AxesSubplot at 0x179249b6978>"
      ]
     },
     "execution_count": 16,
     "metadata": {},
     "output_type": "execute_result"
    },
    {
     "data": {
      "image/png": "[encoded data removed]",
      "text/plain": [
       "<Figure size 432x288 with 1 Axes>"
      ]
     },
     "metadata": {
      "needs_background": "light"
     },
     "output_type": "display_data"
    }
   ],
   "source": [
    "df[['Close_EURUSD','Close_GBPUSD']].plot.line()"
   ]
  },
  {
   "cell_type": "code",
   "execution_count": 17,
   "metadata": {},
   "outputs": [],
   "source": [
    "dd = df[['Time','Open_EURUSD','High_EURUSD','Low_EURUSD','Close_EURUSD']]"
   ]
  },
  {
   "cell_type": "code",
   "execution_count": 18,
   "metadata": {},
   "outputs": [
    {
     "name": "stderr",
     "output_type": "stream",
     "text": [
      "C:\\python37\\lib\\site-packages\\ipykernel_launcher.py:1: SettingWithCopyWarning: \n",
      "A value is trying to be set on a copy of a slice from a DataFrame.\n",
      "Try using .loc[row_indexer,col_indexer] = value instead\n",
      "\n",
      "See the caveats in the documentation: http://pandas.pydata.org/pandas-docs/stable/indexing.html#indexing-view-versus-copy\n",
      "  \"\"\"Entry point for launching an IPython kernel.\n"
     ]
    }
   ],
   "source": [
    "dd['Time'] = pd.to_datetime(dd['Time'])"
   ]
  },
  {
   "cell_type": "code",
   "execution_count": 19,
   "metadata": {},
   "outputs": [],
   "source": [
    "dd.set_index('Time', inplace=True)"
   ]
  },
  {
   "cell_type": "code",
   "execution_count": 20,
   "metadata": {},
   "outputs": [
    {
     "data": {
      "text/html": [
       "<div>\n",
       "<style scoped>\n",
       "    .dataframe tbody tr th:only-of-type {\n",
       "        vertical-align: middle;\n",
       "    }\n",
       "\n",
       "    .dataframe tbody tr th {\n",
       "        vertical-align: top;\n",
       "    }\n",
       "\n",
       "    .dataframe thead th {\n",
       "        text-align: right;\n",
       "    }\n",
       "</style>\n",
       "<table border=\"1\" class=\"dataframe\">\n",
       "  <thead>\n",
       "    <tr style=\"text-align: right;\">\n",
       "      <th></th>\n",
       "      <th>Open_EURUSD</th>\n",
       "      <th>High_EURUSD</th>\n",
       "      <th>Low_EURUSD</th>\n",
       "      <th>Close_EURUSD</th>\n",
       "    </tr>\n",
       "    <tr>\n",
       "      <th>Time</th>\n",
       "      <th></th>\n",
       "      <th></th>\n",
       "      <th></th>\n",
       "      <th></th>\n",
       "    </tr>\n",
       "  </thead>\n",
       "  <tbody>\n",
       "    <tr>\n",
       "      <th>2004-06-01 00:00:00</th>\n",
       "      <td>1.21912</td>\n",
       "      <td>1.21931</td>\n",
       "      <td>1.21899</td>\n",
       "      <td>1.21931</td>\n",
       "    </tr>\n",
       "    <tr>\n",
       "      <th>2004-06-01 00:01:00</th>\n",
       "      <td>1.21909</td>\n",
       "      <td>1.21943</td>\n",
       "      <td>1.21909</td>\n",
       "      <td>1.21938</td>\n",
       "    </tr>\n",
       "    <tr>\n",
       "      <th>2004-06-01 00:02:00</th>\n",
       "      <td>1.21913</td>\n",
       "      <td>1.21945</td>\n",
       "      <td>1.21912</td>\n",
       "      <td>1.21913</td>\n",
       "    </tr>\n",
       "    <tr>\n",
       "      <th>2004-06-01 00:03:00</th>\n",
       "      <td>1.21920</td>\n",
       "      <td>1.21937</td>\n",
       "      <td>1.21909</td>\n",
       "      <td>1.21937</td>\n",
       "    </tr>\n",
       "    <tr>\n",
       "      <th>2004-06-01 00:04:00</th>\n",
       "      <td>1.21926</td>\n",
       "      <td>1.21944</td>\n",
       "      <td>1.21918</td>\n",
       "      <td>1.21930</td>\n",
       "    </tr>\n",
       "  </tbody>\n",
       "</table>\n",
       "</div>"
      ],
      "text/plain": [
       "                     Open_EURUSD  High_EURUSD  Low_EURUSD  Close_EURUSD\n",
       "Time                                                                   \n",
       "2004-06-01 00:00:00      1.21912      1.21931     1.21899       1.21931\n",
       "2004-06-01 00:01:00      1.21909      1.21943     1.21909       1.21938\n",
       "2004-06-01 00:02:00      1.21913      1.21945     1.21912       1.21913\n",
       "2004-06-01 00:03:00      1.21920      1.21937     1.21909       1.21937\n",
       "2004-06-01 00:04:00      1.21926      1.21944     1.21918       1.21930"
      ]
     },
     "execution_count": 20,
     "metadata": {},
     "output_type": "execute_result"
    }
   ],
   "source": [
    "dd.head()"
   ]
  },
  {
   "cell_type": "code",
   "execution_count": 21,
   "metadata": {},
   "outputs": [],
   "source": [
    "dd = dd.resample('B').agg({'Open_EURUSD': 'first','High_EURUSD': 'max', \n",
    "                                         'Low_EURUSD': 'min', \n",
    "                                         'Close_EURUSD': 'last'})"
   ]
  },
  {
   "cell_type": "code",
   "execution_count": 22,
   "metadata": {},
   "outputs": [
    {
     "data": {
      "text/html": [
       "<div>\n",
       "<style scoped>\n",
       "    .dataframe tbody tr th:only-of-type {\n",
       "        vertical-align: middle;\n",
       "    }\n",
       "\n",
       "    .dataframe tbody tr th {\n",
       "        vertical-align: top;\n",
       "    }\n",
       "\n",
       "    .dataframe thead th {\n",
       "        text-align: right;\n",
       "    }\n",
       "</style>\n",
       "<table border=\"1\" class=\"dataframe\">\n",
       "  <thead>\n",
       "    <tr style=\"text-align: right;\">\n",
       "      <th></th>\n",
       "      <th>Open_EURUSD</th>\n",
       "      <th>High_EURUSD</th>\n",
       "      <th>Low_EURUSD</th>\n",
       "      <th>Close_EURUSD</th>\n",
       "    </tr>\n",
       "    <tr>\n",
       "      <th>Time</th>\n",
       "      <th></th>\n",
       "      <th></th>\n",
       "      <th></th>\n",
       "      <th></th>\n",
       "    </tr>\n",
       "  </thead>\n",
       "  <tbody>\n",
       "    <tr>\n",
       "      <th>2004-06-01</th>\n",
       "      <td>1.21912</td>\n",
       "      <td>1.22657</td>\n",
       "      <td>1.21543</td>\n",
       "      <td>1.22396</td>\n",
       "    </tr>\n",
       "    <tr>\n",
       "      <th>2004-06-02</th>\n",
       "      <td>1.22385</td>\n",
       "      <td>1.23030</td>\n",
       "      <td>1.22030</td>\n",
       "      <td>1.22093</td>\n",
       "    </tr>\n",
       "    <tr>\n",
       "      <th>2004-06-03</th>\n",
       "      <td>1.22067</td>\n",
       "      <td>1.22496</td>\n",
       "      <td>1.21680</td>\n",
       "      <td>1.22137</td>\n",
       "    </tr>\n",
       "    <tr>\n",
       "      <th>2004-06-04</th>\n",
       "      <td>1.22170</td>\n",
       "      <td>1.22997</td>\n",
       "      <td>1.21395</td>\n",
       "      <td>1.22939</td>\n",
       "    </tr>\n",
       "    <tr>\n",
       "      <th>2004-06-07</th>\n",
       "      <td>1.22980</td>\n",
       "      <td>1.23373</td>\n",
       "      <td>1.22885</td>\n",
       "      <td>1.23134</td>\n",
       "    </tr>\n",
       "  </tbody>\n",
       "</table>\n",
       "</div>"
      ],
      "text/plain": [
       "            Open_EURUSD  High_EURUSD  Low_EURUSD  Close_EURUSD\n",
       "Time                                                          \n",
       "2004-06-01      1.21912      1.22657     1.21543       1.22396\n",
       "2004-06-02      1.22385      1.23030     1.22030       1.22093\n",
       "2004-06-03      1.22067      1.22496     1.21680       1.22137\n",
       "2004-06-04      1.22170      1.22997     1.21395       1.22939\n",
       "2004-06-07      1.22980      1.23373     1.22885       1.23134"
      ]
     },
     "execution_count": 22,
     "metadata": {},
     "output_type": "execute_result"
    }
   ],
   "source": [
    "dd.head()"
   ]
  },
  {
   "cell_type": "code",
   "execution_count": 23,
   "metadata": {},
   "outputs": [],
   "source": [
    "dd['ret'] = dd['Close_EURUSD']-dd['Close_EURUSD'].shift(2)"
   ]
  },
  {
   "cell_type": "code",
   "execution_count": 24,
   "metadata": {},
   "outputs": [
    {
     "data": {
      "text/html": [
       "<div>\n",
       "<style scoped>\n",
       "    .dataframe tbody tr th:only-of-type {\n",
       "        vertical-align: middle;\n",
       "    }\n",
       "\n",
       "    .dataframe tbody tr th {\n",
       "        vertical-align: top;\n",
       "    }\n",
       "\n",
       "    .dataframe thead th {\n",
       "        text-align: right;\n",
       "    }\n",
       "</style>\n",
       "<table border=\"1\" class=\"dataframe\">\n",
       "  <thead>\n",
       "    <tr style=\"text-align: right;\">\n",
       "      <th></th>\n",
       "      <th>Open_EURUSD</th>\n",
       "      <th>High_EURUSD</th>\n",
       "      <th>Low_EURUSD</th>\n",
       "      <th>Close_EURUSD</th>\n",
       "      <th>ret</th>\n",
       "    </tr>\n",
       "    <tr>\n",
       "      <th>Time</th>\n",
       "      <th></th>\n",
       "      <th></th>\n",
       "      <th></th>\n",
       "      <th></th>\n",
       "      <th></th>\n",
       "    </tr>\n",
       "  </thead>\n",
       "  <tbody>\n",
       "    <tr>\n",
       "      <th>2004-06-01</th>\n",
       "      <td>1.21912</td>\n",
       "      <td>1.22657</td>\n",
       "      <td>1.21543</td>\n",
       "      <td>1.22396</td>\n",
       "      <td>NaN</td>\n",
       "    </tr>\n",
       "    <tr>\n",
       "      <th>2004-06-02</th>\n",
       "      <td>1.22385</td>\n",
       "      <td>1.23030</td>\n",
       "      <td>1.22030</td>\n",
       "      <td>1.22093</td>\n",
       "      <td>NaN</td>\n",
       "    </tr>\n",
       "    <tr>\n",
       "      <th>2004-06-03</th>\n",
       "      <td>1.22067</td>\n",
       "      <td>1.22496</td>\n",
       "      <td>1.21680</td>\n",
       "      <td>1.22137</td>\n",
       "      <td>-0.00259</td>\n",
       "    </tr>\n",
       "    <tr>\n",
       "      <th>2004-06-04</th>\n",
       "      <td>1.22170</td>\n",
       "      <td>1.22997</td>\n",
       "      <td>1.21395</td>\n",
       "      <td>1.22939</td>\n",
       "      <td>0.00846</td>\n",
       "    </tr>\n",
       "    <tr>\n",
       "      <th>2004-06-07</th>\n",
       "      <td>1.22980</td>\n",
       "      <td>1.23373</td>\n",
       "      <td>1.22885</td>\n",
       "      <td>1.23134</td>\n",
       "      <td>0.00997</td>\n",
       "    </tr>\n",
       "  </tbody>\n",
       "</table>\n",
       "</div>"
      ],
      "text/plain": [
       "            Open_EURUSD  High_EURUSD  Low_EURUSD  Close_EURUSD      ret\n",
       "Time                                                                   \n",
       "2004-06-01      1.21912      1.22657     1.21543       1.22396      NaN\n",
       "2004-06-02      1.22385      1.23030     1.22030       1.22093      NaN\n",
       "2004-06-03      1.22067      1.22496     1.21680       1.22137 -0.00259\n",
       "2004-06-04      1.22170      1.22997     1.21395       1.22939  0.00846\n",
       "2004-06-07      1.22980      1.23373     1.22885       1.23134  0.00997"
      ]
     },
     "execution_count": 24,
     "metadata": {},
     "output_type": "execute_result"
    }
   ],
   "source": [
    "dd.head()"
   ]
  },
  {
   "cell_type": "code",
   "execution_count": 25,
   "metadata": {},
   "outputs": [
    {
     "data": {
      "text/plain": [
       "<matplotlib.axes._subplots.AxesSubplot at 0x17937a7d0f0>"
      ]
     },
     "execution_count": 25,
     "metadata": {},
     "output_type": "execute_result"
    },
    {
     "data": {
      "image/png": "[encoded data removed]",
      "text/plain": [
       "<Figure size 432x288 with 1 Axes>"
      ]
     },
     "metadata": {
      "needs_background": "light"
     },
     "output_type": "display_data"
    }
   ],
   "source": [
    "dd['ret'].plot.hist(bins=50)"
   ]
  },
  {
   "cell_type": "code",
   "execution_count": 26,
   "metadata": {},
   "outputs": [
    {
     "data": {
      "text/plain": [
       "(-10.31034736886769,\n",
       " 3.197554197197998e-18,\n",
       " 30,\n",
       " 3616,\n",
       " {'1%': -3.432159720193857,\n",
       "  '5%': -2.862339633287972,\n",
       "  '10%': -2.56719565730786},\n",
       " -24418.946773078893)"
      ]
     },
     "execution_count": 26,
     "metadata": {},
     "output_type": "execute_result"
    }
   ],
   "source": [
    "adfuller(dd['ret'].dropna())"
   ]
  },
  {
   "cell_type": "code",
   "execution_count": 27,
   "metadata": {},
   "outputs": [
    {
     "data": {
      "text/plain": [
       "NormaltestResult(statistic=42.42300663024574, pvalue=6.137071136899303e-10)"
      ]
     },
     "execution_count": 27,
     "metadata": {},
     "output_type": "execute_result"
    }
   ],
   "source": [
    "stats.normaltest(dd['Close_EURUSD'].dropna())"
   ]
  },
  {
   "cell_type": "code",
   "execution_count": 28,
   "metadata": {},
   "outputs": [],
   "source": [
    "b = getWeights(0.5,3)"
   ]
  },
  {
   "cell_type": "code",
   "execution_count": 29,
   "metadata": {},
   "outputs": [
    {
     "data": {
      "text/plain": [
       "array([[-0.125],\n",
       "       [-0.5  ],\n",
       "       [ 1.   ]])"
      ]
     },
     "execution_count": 29,
     "metadata": {},
     "output_type": "execute_result"
    }
   ],
   "source": [
    "b"
   ]
  },
  {
   "cell_type": "code",
   "execution_count": 56,
   "metadata": {},
   "outputs": [],
   "source": [
    "w, h = signal.freqz(getWeights(1,2))"
   ]
  },
  {
   "cell_type": "code",
   "execution_count": 57,
   "metadata": {},
   "outputs": [
    {
     "name": "stderr",
     "output_type": "stream",
     "text": [
      "C:\\python37\\lib\\site-packages\\ipykernel_launcher.py:1: RuntimeWarning: divide by zero encountered in log10\n",
      "  \"\"\"Entry point for launching an IPython kernel.\n"
     ]
    },
    {
     "data": {
      "text/plain": [
       "[<matplotlib.lines.Line2D at 0x179b14906d8>]"
      ]
     },
     "execution_count": 57,
     "metadata": {},
     "output_type": "execute_result"
    },
    {
     "data": {
      "image/png": "[encoded data removed]",
      "text/plain": [
       "<Figure size 432x288 with 1 Axes>"
      ]
     },
     "metadata": {
      "needs_background": "light"
     },
     "output_type": "display_data"
    }
   ],
   "source": [
    "plt.plot(20 * np.log10(abs(h)))"
   ]
  },
  {
   "cell_type": "code",
   "execution_count": 32,
   "metadata": {},
   "outputs": [
    {
     "data": {
      "text/plain": [
       "[<matplotlib.lines.Line2D at 0x1790359cb00>]"
      ]
     },
     "execution_count": 32,
     "metadata": {},
     "output_type": "execute_result"
    },
    {
     "data": {
      "image/png": "[encoded data removed]",
      "text/plain": [
       "<Figure size 432x288 with 1 Axes>"
      ]
     },
     "metadata": {
      "needs_background": "light"
     },
     "output_type": "display_data"
    }
   ],
   "source": [
    "plt.plot(abs(h))"
   ]
  },
  {
   "cell_type": "code",
   "execution_count": 35,
   "metadata": {},
   "outputs": [
    {
     "data": {
      "text/plain": [
       "array([-0.0086625, -0.0165   , -0.045    , -0.9      ,  1.       ])"
      ]
     },
     "execution_count": 35,
     "metadata": {},
     "output_type": "execute_result"
    }
   ],
   "source": [
    "np.reshape(getWeights(0.9,5).T, (5,))"
   ]
  },
  {
   "cell_type": "code",
   "execution_count": null,
   "metadata": {},
   "outputs": [],
   "source": [
    "np.roots(np.reshape(getWeights(0.9,50).T, (50,)))"
   ]
  },
  {
   "cell_type": "code",
   "execution_count": 82,
   "metadata": {},
   "outputs": [],
   "source": [
    "from  matplotlib import patches\n",
    "from matplotlib.figure import Figure\n",
    "from matplotlib import rcParams\n",
    "\n",
    "def zplane(b,a,filename=None):\n",
    "    \"\"\"Plot the complex z-plane given a transfer function.\n",
    "    \"\"\"\n",
    "\n",
    "    # get a figure/plot\n",
    "    ax = plt.subplot(111)\n",
    "\n",
    "    # create the unit circle\n",
    "    uc = patches.Circle((0,0), radius=1, fill=False,\n",
    "                        color='black', ls='dashed')\n",
    "    ax.add_patch(uc)\n",
    "\n",
    "    # The coefficients are less than 1, normalize the coeficients\n",
    "    if np.max(b) > 1:\n",
    "        kn = np.max(b)\n",
    "        b = b/float(kn)\n",
    "    else:\n",
    "        kn = 1\n",
    "\n",
    "    if np.max(a) > 1:\n",
    "        kd = np.max(a)\n",
    "        a = a/float(kd)\n",
    "    else:\n",
    "        kd = 1\n",
    "        \n",
    "    # Get the poles and zeros\n",
    "    p = np.roots(a)\n",
    "    z = np.roots(b)\n",
    "    k = kn/float(kd)\n",
    "    \n",
    "    # Plot the zeros and set marker properties    \n",
    "    t1 = plt.plot(z.real, z.imag, 'go', ms=10)\n",
    "    plt.setp( t1, markersize=10.0, markeredgewidth=1.0,\n",
    "              markeredgecolor='k', markerfacecolor='g')\n",
    "\n",
    "    # Plot the poles and set marker properties\n",
    "    t2 = plt.plot(p.real, p.imag, 'rx', ms=10)\n",
    "    plt.setp( t2, markersize=12.0, markeredgewidth=3.0,\n",
    "              markeredgecolor='r', markerfacecolor='r')\n",
    "\n",
    "    ax.spines['left'].set_position('center')\n",
    "    ax.spines['bottom'].set_position('center')\n",
    "    ax.spines['right'].set_visible(False)\n",
    "    ax.spines['top'].set_visible(False)\n",
    "\n",
    "    # set the ticks\n",
    "    r = 3; plt.axis('scaled'); plt.axis([-r, r, -r, r])\n",
    "    ticks = [-1, -.5, .5, 1]; plt.xticks(ticks); plt.yticks(ticks)\n",
    "\n",
    "    if filename is None:\n",
    "        plt.show()\n",
    "    else:\n",
    "        plt.savefig(filename)\n",
    "    \n",
    "\n",
    "    return z, p, k"
   ]
  },
  {
   "cell_type": "code",
   "execution_count": null,
   "metadata": {},
   "outputs": [],
   "source": [
    "N=6\n",
    "r=0.1\n",
    "zplane(np.reshape(getWeights(r,N).T, (N,)), a=1)"
   ]
  },
  {
   "cell_type": "code",
   "execution_count": 74,
   "metadata": {},
   "outputs": [],
   "source": [
    "def plotTFs(f1,f2):\n",
    "    w, h1 = signal.freqz(f1)\n",
    "    w, h2 = signal.freqz(f2)\n",
    "    axes = plt.gca()\n",
    "#axes.set_xlim([xmin,xmax])\n",
    "    axes.set_ylim([-10,5])\n",
    "    plt.plot(20*np.log10(abs(h1)),'r--',20*np.log10(abs(h2)),'b--')"
   ]
  },
  {
   "cell_type": "code",
   "execution_count": 96,
   "metadata": {},
   "outputs": [
    {
     "data": {
      "image/png": "[encoded data removed]",
      "text/plain": [
       "<Figure size 432x288 with 1 Axes>"
      ]
     },
     "metadata": {
      "needs_background": "light"
     },
     "output_type": "display_data"
    }
   ],
   "source": [
    "r1 = 0.8\n",
    "N1 = 3\n",
    "r2 = 0.8\n",
    "N2 = 300\n",
    "plotTFs(np.reshape(getWeights(r1,N1).T, (N1,)),np.reshape(getWeights(r2,N2).T, (N2,)))\n"
   ]
  },
  {
   "cell_type": "code",
   "execution_count": 87,
   "metadata": {},
   "outputs": [
    {
     "data": {
      "image/png": "[encoded data removed]",
      "text/plain": [
       "<Figure size 432x288 with 1 Axes>"
      ]
     },
     "metadata": {
      "needs_background": "light"
     },
     "output_type": "display_data"
    },
    {
     "data": {
      "text/plain": [
       "(array([-5.95433216,  3.73210994]), array([], dtype=float64), 1.0)"
      ]
     },
     "execution_count": 87,
     "metadata": {},
     "output_type": "execute_result"
    }
   ],
   "source": [
    "zplane(np.reshape(getWeights(r2,N2).T, (N2,)), a=1)"
   ]
  },
  {
   "cell_type": "code",
   "execution_count": null,
   "metadata": {},
   "outputs": [],
   "source": []
  }
 ],
 "metadata": {
  "kernelspec": {
   "display_name": "Python 3",
   "language": "python",
   "name": "python3"
  },
  "language_info": {
   "codemirror_mode": {
    "name": "ipython",
    "version": 3
   },
   "file_extension": ".py",
   "mimetype": "text/x-python",
   "name": "python",
   "nbconvert_exporter": "python",
   "pygments_lexer": "ipython3",
   "version": "3.7.3"
  }
 },
 "nbformat": 4,
 "nbformat_minor": 2
}
