{
 "cells": [
  {
   "cell_type": "code",
   "execution_count": 1,
   "metadata": {},
   "outputs": [],
   "source": [
    "import numpy as np\n",
    "import pandas as pd\n",
    "import matplotlib.pyplot as plt\n",
    "import statsmodels.api as sm\n",
    "import seaborn as sns\n",
    "from scipy import stats\n",
    "from scipy import signal\n",
    "from statsmodels.tsa.stattools import adfuller\n",
    "from  matplotlib import patches\n",
    "from matplotlib.figure import Figure\n",
    "from matplotlib import rcParams\n"
   ]
  },
  {
   "cell_type": "code",
   "execution_count": 2,
   "metadata": {},
   "outputs": [],
   "source": [
    "####################################\n",
    "#--       INPUT VARIABLES       \n",
    "####################################\n",
    "data_input_dir = \"02_data/input/\"\n",
    "data_intermediate_dir = \"02_data/intermediate/\"\n",
    "data_output_dir = \"02_data/output/\"\n",
    "models_prod_dir = \"03_models/prod/\"\n",
    "models_archive_dir = \"03_models/archive/\"\n",
    "#-- Change to project directory\n",
    "path = 'C:/Users/Mohamed Ibrahim/Box Sync/FX_DATASCIENCE/main_fx'\n",
    "import os\n",
    "#-- Change to project home directory\n",
    "os.chdir(path)\n",
    "exec(open(\"01_code/prod/P1_functions.py\").read())"
   ]
  },
  {
   "cell_type": "code",
   "execution_count": 3,
   "metadata": {},
   "outputs": [],
   "source": [
    "def getWeights(d,size):\n",
    "    # thres>0 drops insignificant weights\n",
    "    w=[1.]\n",
    "    for k in range(1,size):\n",
    "        w_=-w[-1]/k*(d-k+1)\n",
    "        w.append(w_)\n",
    "    w=np.array(w[::-1]).reshape(-1,1)\n",
    "    return w"
   ]
  },
  {
   "cell_type": "code",
   "execution_count": 33,
   "metadata": {},
   "outputs": [],
   "source": [
    "def zplane(b,a,filename=None):\n",
    "    \"\"\"Plot the complex z-plane given a transfer function.\n",
    "    \"\"\"\n",
    "\n",
    "    # get a figure/plot\n",
    "    ax = plt.subplot(111)\n",
    "\n",
    "    # create the unit circle\n",
    "    uc = patches.Circle((0,0), radius=1, fill=False,\n",
    "                        color='black', ls='dashed')\n",
    "    ax.add_patch(uc)\n",
    "\n",
    "    # The coefficients are less than 1, normalize the coeficients\n",
    "    if np.max(b) > 1:\n",
    "        kn = np.max(b)\n",
    "        b = b/float(kn)\n",
    "    else:\n",
    "        kn = 1\n",
    "\n",
    "    if np.max(a) > 1:\n",
    "        kd = np.max(a)\n",
    "        a = a/float(kd)\n",
    "    else:\n",
    "        kd = 1\n",
    "        \n",
    "    # Get the poles and zeros\n",
    "    p = np.roots(a)\n",
    "    z = np.roots(b)\n",
    "    k = kn/float(kd)\n",
    "    \n",
    "    # Plot the zeros and set marker properties    \n",
    "    t1 = plt.plot(z.real, z.imag, 'go', ms=10)\n",
    "    plt.setp( t1, markersize=10.0, markeredgewidth=1.0,\n",
    "              markeredgecolor='k', markerfacecolor='g')\n",
    "\n",
    "    # Plot the poles and set marker properties\n",
    "    t2 = plt.plot(p.real, p.imag, 'rx', ms=10)\n",
    "    plt.setp( t2, markersize=12.0, markeredgewidth=3.0,\n",
    "              markeredgecolor='r', markerfacecolor='r')\n",
    "\n",
    "    ax.spines['left'].set_position('center')\n",
    "    ax.spines['bottom'].set_position('center')\n",
    "    ax.spines['right'].set_visible(False)\n",
    "    ax.spines['top'].set_visible(False)\n",
    "\n",
    "    # set the ticks\n",
    "    r = 3; plt.axis('scaled'); plt.axis([-r, r, -r, r])\n",
    "    ticks = [-1, -.5, .5, 1]; plt.xticks(ticks); plt.yticks(ticks)\n",
    "\n",
    "    if filename is None:\n",
    "        plt.show()\n",
    "    else:\n",
    "        plt.savefig(filename)\n",
    "    \n",
    "\n",
    "    return z, p, k"
   ]
  },
  {
   "cell_type": "code",
   "execution_count": 30,
   "metadata": {},
   "outputs": [],
   "source": [
    "def plotTFs(f1,f2):\n",
    "    w, h1 = signal.freqz(f1)\n",
    "    w, h2 = signal.freqz(f2)\n",
    "    axes = plt.gca()\n",
    "#axes.set_xlim([xmin,xmax])\n",
    "    axes.set_ylim([-10,5])\n",
    "    plt.plot(20*np.log10(abs(h1)),'r--',20*np.log10(abs(h2)),'b--')"
   ]
  },
  {
   "cell_type": "code",
   "execution_count": 70,
   "metadata": {},
   "outputs": [],
   "source": [
    "def plotIIR(b,a):\n",
    "    w, h1 = signal.freqz(b, a)\n",
    "    axes = plt.gca()\n",
    "#axes.set_xlim([xmin,xmax])\n",
    "    axes.set_ylim([-10,5])\n",
    "    plt.plot(20*np.log10(abs(h1)),'r--')"
   ]
  },
  {
   "cell_type": "code",
   "execution_count": 31,
   "metadata": {},
   "outputs": [],
   "source": [
    "def getADF(x):\n",
    "    return adfuller(x)[0]"
   ]
  },
  {
   "cell_type": "code",
   "execution_count": 32,
   "metadata": {},
   "outputs": [],
   "source": [
    "def autocorr(x):\n",
    "    result = np.correlate(x, x, mode='full')\n",
    "    return result[result.size // 2:]"
   ]
  },
  {
   "cell_type": "code",
   "execution_count": 47,
   "metadata": {},
   "outputs": [],
   "source": [
    "def acf(x, length=20):\n",
    "    return np.array([1]+[np.corrcoef(x[:-i], x[i:])[0,1]  \\\n",
    "        for i in range(1, length)])"
   ]
  },
  {
   "cell_type": "code",
   "execution_count": 4,
   "metadata": {},
   "outputs": [],
   "source": [
    "df = pd.read_csv(data_input_dir+\"dt_all_min.csv\")"
   ]
  },
  {
   "cell_type": "code",
   "execution_count": 5,
   "metadata": {},
   "outputs": [],
   "source": [
    "dd = df[['Time','Close_EURUSD','Close_GBPUSD','Close_USDJPY','Close_AUDUSD']]"
   ]
  },
  {
   "cell_type": "code",
   "execution_count": 6,
   "metadata": {},
   "outputs": [
    {
     "name": "stderr",
     "output_type": "stream",
     "text": [
      "C:\\python37\\lib\\site-packages\\ipykernel_launcher.py:1: SettingWithCopyWarning: \n",
      "A value is trying to be set on a copy of a slice from a DataFrame.\n",
      "Try using .loc[row_indexer,col_indexer] = value instead\n",
      "\n",
      "See the caveats in the documentation: http://pandas.pydata.org/pandas-docs/stable/indexing.html#indexing-view-versus-copy\n",
      "  \"\"\"Entry point for launching an IPython kernel.\n"
     ]
    }
   ],
   "source": [
    "dd['Time'] = pd.to_datetime(dd['Time'])"
   ]
  },
  {
   "cell_type": "code",
   "execution_count": 7,
   "metadata": {},
   "outputs": [],
   "source": [
    "dd.set_index('Time', inplace=True)"
   ]
  },
  {
   "cell_type": "code",
   "execution_count": 8,
   "metadata": {},
   "outputs": [],
   "source": [
    "dd = dd.resample('B').agg({'Close_GBPUSD': 'last','Close_USDJPY': 'last', \n",
    "                                         'Close_AUDUSD': 'last', \n",
    "                                         'Close_EURUSD': 'last'})"
   ]
  },
  {
   "cell_type": "code",
   "execution_count": 9,
   "metadata": {},
   "outputs": [
    {
     "data": {
      "text/html": [
       "<div>\n",
       "<style scoped>\n",
       "    .dataframe tbody tr th:only-of-type {\n",
       "        vertical-align: middle;\n",
       "    }\n",
       "\n",
       "    .dataframe tbody tr th {\n",
       "        vertical-align: top;\n",
       "    }\n",
       "\n",
       "    .dataframe thead th {\n",
       "        text-align: right;\n",
       "    }\n",
       "</style>\n",
       "<table border=\"1\" class=\"dataframe\">\n",
       "  <thead>\n",
       "    <tr style=\"text-align: right;\">\n",
       "      <th></th>\n",
       "      <th>Close_GBPUSD</th>\n",
       "      <th>Close_USDJPY</th>\n",
       "      <th>Close_AUDUSD</th>\n",
       "      <th>Close_EURUSD</th>\n",
       "    </tr>\n",
       "    <tr>\n",
       "      <th>Time</th>\n",
       "      <th></th>\n",
       "      <th></th>\n",
       "      <th></th>\n",
       "      <th></th>\n",
       "    </tr>\n",
       "  </thead>\n",
       "  <tbody>\n",
       "    <tr>\n",
       "      <th>2004-06-01</th>\n",
       "      <td>1.83996</td>\n",
       "      <td>110.42</td>\n",
       "      <td>0.7067</td>\n",
       "      <td>1.22396</td>\n",
       "    </tr>\n",
       "    <tr>\n",
       "      <th>2004-06-02</th>\n",
       "      <td>1.83273</td>\n",
       "      <td>110.04</td>\n",
       "      <td>0.6966</td>\n",
       "      <td>1.22093</td>\n",
       "    </tr>\n",
       "    <tr>\n",
       "      <th>2004-06-03</th>\n",
       "      <td>1.83972</td>\n",
       "      <td>111.02</td>\n",
       "      <td>0.6879</td>\n",
       "      <td>1.22137</td>\n",
       "    </tr>\n",
       "    <tr>\n",
       "      <th>2004-06-04</th>\n",
       "      <td>1.84093</td>\n",
       "      <td>110.91</td>\n",
       "      <td>0.6982</td>\n",
       "      <td>1.22939</td>\n",
       "    </tr>\n",
       "    <tr>\n",
       "      <th>2004-06-07</th>\n",
       "      <td>1.84073</td>\n",
       "      <td>109.62</td>\n",
       "      <td>0.7060</td>\n",
       "      <td>1.23134</td>\n",
       "    </tr>\n",
       "  </tbody>\n",
       "</table>\n",
       "</div>"
      ],
      "text/plain": [
       "            Close_GBPUSD  Close_USDJPY  Close_AUDUSD  Close_EURUSD\n",
       "Time                                                              \n",
       "2004-06-01       1.83996        110.42        0.7067       1.22396\n",
       "2004-06-02       1.83273        110.04        0.6966       1.22093\n",
       "2004-06-03       1.83972        111.02        0.6879       1.22137\n",
       "2004-06-04       1.84093        110.91        0.6982       1.22939\n",
       "2004-06-07       1.84073        109.62        0.7060       1.23134"
      ]
     },
     "execution_count": 9,
     "metadata": {},
     "output_type": "execute_result"
    }
   ],
   "source": [
    "dd.head()"
   ]
  },
  {
   "cell_type": "code",
   "execution_count": 57,
   "metadata": {},
   "outputs": [],
   "source": [
    "z = signal.lfilter( b=[1,-1], a=1, x=dd['Close_USDJPY'], axis=0)"
   ]
  },
  {
   "cell_type": "code",
   "execution_count": 58,
   "metadata": {},
   "outputs": [],
   "source": [
    "x = acf(z[1:])"
   ]
  },
  {
   "cell_type": "code",
   "execution_count": 56,
   "metadata": {},
   "outputs": [
    {
     "data": {
      "text/plain": [
       "[<matplotlib.lines.Line2D at 0x1e163429c50>]"
      ]
     },
     "execution_count": 56,
     "metadata": {},
     "output_type": "execute_result"
    },
    {
     "data": {
      "image/png": "[encoded data removed]",
      "text/plain": [
       "<Figure size 432x288 with 1 Axes>"
      ]
     },
     "metadata": {
      "needs_background": "light"
     },
     "output_type": "display_data"
    }
   ],
   "source": [
    "plt.plot(20*np.log10(abs(x[0:4])))"
   ]
  },
  {
   "cell_type": "code",
   "execution_count": 66,
   "metadata": {},
   "outputs": [
    {
     "data": {
      "image/png": "[encoded data removed]",
      "text/plain": [
       "<Figure size 432x288 with 1 Axes>"
      ]
     },
     "metadata": {
      "needs_background": "light"
     },
     "output_type": "display_data"
    }
   ],
   "source": [
    "plotTFs(signal.firwin(9, 0.1, pass_zero=False),signal.firwin(9, 0.4, pass_zero=False) )"
   ]
  },
  {
   "cell_type": "code",
   "execution_count": 77,
   "metadata": {},
   "outputs": [],
   "source": [
    "b, a = signal.butter(4, [0.00001,0.1], 'bandstop')"
   ]
  },
  {
   "cell_type": "code",
   "execution_count": 78,
   "metadata": {},
   "outputs": [
    {
     "data": {
      "image/png": "[encoded data removed]",
      "text/plain": [
       "<Figure size 432x288 with 1 Axes>"
      ]
     },
     "metadata": {
      "needs_background": "light"
     },
     "output_type": "display_data"
    }
   ],
   "source": [
    "plotIIR(b,a)"
   ]
  },
  {
   "cell_type": "code",
   "execution_count": 251,
   "metadata": {},
   "outputs": [],
   "source": [
    "#w_v = [0.0001,0.005,0.01,0.025,0.05,0.1]\n",
    "#w_v = [0.0001,0.1,0.15,0.2,0.25,0.3,0.35,0.4]\n",
    "w_v = [0.05,0.1,0.15,0.2,0.25,0.3,0.35,0.4,0.45,0.5,0.55,0.6,0.65,0.7,0.75,0.8,0.85]\n",
    "\n",
    "\n"
   ]
  },
  {
   "cell_type": "code",
   "execution_count": 348,
   "metadata": {},
   "outputs": [],
   "source": [
    "cr = 'Close_EURUSD'\n",
    "N_1 = 11\n",
    "N_2 = 19\n",
    "crr_1=[]\n",
    "ad_1 = []\n",
    "crr_2=[]\n",
    "ad_2 = []\n",
    "crr_f=[]\n",
    "ad_f = []\n",
    "N_fracdiff = 10\n",
    "crr_d =[]\n",
    "ad_d = []\n",
    "\n",
    "for w in w_v:\n",
    "    #-- FIR low order\n",
    "    b = signal.firwin(N_1, w, pass_zero=False)\n",
    "    #-- Filter the signal\n",
    "    z = signal.lfilter( b=b, a=1, x=dd[cr], axis=0)[(N_1+10):]\n",
    "    #-- Get corr\n",
    "    crr_1.append(np.mean(abs(acf(z)[1:5])))\n",
    "    #-- Get adf\n",
    "    ad_1.append(getADF(z))\n",
    "    \n",
    "    #-- IIR high order\n",
    "    b, a = signal.iirfilter(N_2,w, rs=1, btype = 'highpass', ftype = 'cheby2', analog =False)\n",
    "    #b, a = signal.butter(N_2,[w,w+0.01], 'bandpass')\n",
    "    #-- Filter the signal\n",
    "    z = signal.lfilter( b=b, a=a, x=dd[cr], axis=0)[(N_2+10):]\n",
    "    z = z[~np.isnan(z)]\n",
    "    #-- Get corr\n",
    "    crr_2.append( np.mean(abs(acf(z)[1:5]))  )\n",
    "    #-- Get adf\n",
    "    ad_2.append(getADF(z))\n",
    "    \n",
    "    #-- Fracdiff\n",
    "    b = np.reshape(getWeights(w,N_fracdiff),N_fracdiff)\n",
    "    #-- Filter the signal\n",
    "    z = signal.lfilter( b=b, a=1, x=dd[cr], axis=0)[(N_fracdiff+10):]\n",
    "    #-- Get corr\n",
    "    crr_f.append( np.mean(abs(acf(z)[1:5]))  )\n",
    "    #-- Get adf\n",
    "    ad_f.append(getADF(z))\n",
    "    \n",
    "    #-- First order diff\n",
    "    b = [1,-1]\n",
    "    #-- Filter the signal\n",
    "    z = signal.lfilter( b=b, a=1, x=dd[cr], axis=0)[(N_fracdiff+10):]\n",
    "    #-- Get corr\n",
    "    crr_d.append( np.mean(abs(acf(z)[1:5]))  )\n",
    "    #-- Get adf\n",
    "    ad_d.append(getADF(z))\n",
    "    \n",
    "    \n",
    "    \n",
    "    \n"
   ]
  },
  {
   "cell_type": "code",
   "execution_count": 349,
   "metadata": {},
   "outputs": [
    {
     "data": {
      "text/plain": [
       "[<matplotlib.lines.Line2D at 0x1e1aa24efd0>,\n",
       " <matplotlib.lines.Line2D at 0x1e1aa260160>,\n",
       " <matplotlib.lines.Line2D at 0x1e1aa2602b0>,\n",
       " <matplotlib.lines.Line2D at 0x1e1aa260400>]"
      ]
     },
     "execution_count": 349,
     "metadata": {},
     "output_type": "execute_result"
    },
    {
     "data": {
      "image/png": "[encoded data removed]",
      "text/plain": [
       "<Figure size 432x288 with 1 Axes>"
      ]
     },
     "metadata": {
      "needs_background": "light"
     },
     "output_type": "display_data"
    }
   ],
   "source": [
    "plt.plot(w_v,crr_1,'r',w_v,crr_2,'b', w_v, crr_f,'g',w_v, crr_d,'y' )"
   ]
  },
  {
   "cell_type": "code",
   "execution_count": 350,
   "metadata": {},
   "outputs": [
    {
     "data": {
      "text/plain": [
       "[<matplotlib.lines.Line2D at 0x1e1aa2be940>,\n",
       " <matplotlib.lines.Line2D at 0x1e1aa2bea90>,\n",
       " <matplotlib.lines.Line2D at 0x1e1aa2bebe0>]"
      ]
     },
     "execution_count": 350,
     "metadata": {},
     "output_type": "execute_result"
    },
    {
     "data": {
      "image/png": "[encoded data removed]",
      "text/plain": [
       "<Figure size 432x288 with 1 Axes>"
      ]
     },
     "metadata": {
      "needs_background": "light"
     },
     "output_type": "display_data"
    }
   ],
   "source": [
    "#plt.plot(w_v,ad_1,'r',w_v,ad_2,'b', w_v, ad_f,'g',w_v, ad_d,'y' )\n",
    "plt.plot(w_v,ad_1,'r',w_v,ad_2,'b', w_v, ad_f,'g' )"
   ]
  },
  {
   "cell_type": "code",
   "execution_count": 357,
   "metadata": {},
   "outputs": [],
   "source": [
    "    b, a = signal.iirfilter(3,0.2, rs=1, btype = 'highpass', ftype = 'cheby2', analog =False)\n",
    "    #b, a = signal.butter(N_2,[w,w+0.01], 'bandpass')\n",
    "    #-- Filter the signal\n",
    "    z = signal.lfilter( b=b, a=a, x=dd[cr], axis=0)[(N_2+10):]\n",
    "    z = z[~np.isnan(z)]\n",
    "\n"
   ]
  },
  {
   "cell_type": "code",
   "execution_count": 358,
   "metadata": {},
   "outputs": [
    {
     "name": "stdout",
     "output_type": "stream",
     "text": [
      "[ 0.10048625  0.10226249  0.10230342 ... -0.01963823 -0.01627272\n",
      " -0.02200167]\n"
     ]
    }
   ],
   "source": [
    "print(z)"
   ]
  },
  {
   "cell_type": "code",
   "execution_count": 359,
   "metadata": {},
   "outputs": [
    {
     "name": "stdout",
     "output_type": "stream",
     "text": [
      "[1.         0.89247602 0.80592177 0.73144268 0.66973833 0.61400946\n",
      " 0.56259182 0.51034451 0.4620403  0.41163295 0.37490712 0.33731395\n",
      " 0.30254284 0.27529201 0.24971703]\n",
      "[1.         0.99772547 0.99559785 0.99346665 0.9913921  0.98929734\n",
      " 0.98716901 0.9849322  0.98272254 0.98043842 0.97835433 0.97619365\n",
      " 0.97399241 0.9718318  0.96958602]\n"
     ]
    }
   ],
   "source": [
    "print(acf(z)[0:15])\n",
    "print(acf(dd[cr])[0:15])"
   ]
  },
  {
   "cell_type": "code",
   "execution_count": 360,
   "metadata": {},
   "outputs": [
    {
     "data": {
      "image/png": "[encoded data removed]",
      "text/plain": [
       "<Figure size 432x288 with 1 Axes>"
      ]
     },
     "metadata": {
      "needs_background": "light"
     },
     "output_type": "display_data"
    },
    {
     "data": {
      "image/png": "[encoded data removed]",
      "text/plain": [
       "<Figure size 432x288 with 1 Axes>"
      ]
     },
     "metadata": {
      "needs_background": "light"
     },
     "output_type": "display_data"
    }
   ],
   "source": [
    "plt.plot(z[50:])\n",
    "plt.show()\n",
    "plt.plot(dd[cr],'r')\n",
    "plt.show()"
   ]
  },
  {
   "cell_type": "code",
   "execution_count": 361,
   "metadata": {},
   "outputs": [
    {
     "data": {
      "text/plain": [
       "(-9.786404122847042,\n",
       " 6.525914933063914e-17,\n",
       " 19,\n",
       " 3600,\n",
       " {'1%': -3.432167769140796,\n",
       "  '5%': -2.8623431886668382,\n",
       "  '10%': -2.5671975500771604},\n",
       " -24977.755753717123)"
      ]
     },
     "execution_count": 361,
     "metadata": {},
     "output_type": "execute_result"
    }
   ],
   "source": [
    "adfuller(z)"
   ]
  },
  {
   "cell_type": "code",
   "execution_count": 228,
   "metadata": {},
   "outputs": [
    {
     "data": {
      "text/plain": [
       "array([ 1.        , -0.92114259,  0.72799897, -0.48182559,  0.22144448,\n",
       "        0.02574327, -0.22718636,  0.34567288, -0.36240689,  0.29264177,\n",
       "       -0.17055303,  0.02955053,  0.10204155, -0.19897897,  0.24241217,\n",
       "       -0.22791588,  0.16736977, -0.08137769, -0.00886558,  0.08501811])"
      ]
     },
     "execution_count": 228,
     "metadata": {},
     "output_type": "execute_result"
    }
   ],
   "source": [
    "acf(z)"
   ]
  },
  {
   "cell_type": "code",
   "execution_count": null,
   "metadata": {},
   "outputs": [],
   "source": []
  }
 ],
 "metadata": {
  "kernelspec": {
   "display_name": "Python 3",
   "language": "python",
   "name": "python3"
  },
  "language_info": {
   "codemirror_mode": {
    "name": "ipython",
    "version": 3
   },
   "file_extension": ".py",
   "mimetype": "text/x-python",
   "name": "python",
   "nbconvert_exporter": "python",
   "pygments_lexer": "ipython3",
   "version": "3.7.3"
  }
 },
 "nbformat": 4,
 "nbformat_minor": 2
}
