{
 "cells": [
  {
   "cell_type": "code",
   "execution_count": 1,
   "metadata": {},
   "outputs": [],
   "source": [
    "import numpy as np"
   ]
  },
  {
   "cell_type": "code",
   "execution_count": 2,
   "metadata": {},
   "outputs": [],
   "source": [
    "import pandas as pd"
   ]
  },
  {
   "cell_type": "code",
   "execution_count": 3,
   "metadata": {},
   "outputs": [],
   "source": [
    "import matplotlib.pyplot as plt"
   ]
  },
  {
   "cell_type": "code",
   "execution_count": 15,
   "metadata": {},
   "outputs": [],
   "source": [
    "import statsmodels.api as sm"
   ]
  },
  {
   "cell_type": "code",
   "execution_count": 5,
   "metadata": {},
   "outputs": [],
   "source": [
    "import seaborn as sns"
   ]
  },
  {
   "cell_type": "code",
   "execution_count": 36,
   "metadata": {},
   "outputs": [],
   "source": [
    "from scipy import signal"
   ]
  },
  {
   "cell_type": "code",
   "execution_count": 17,
   "metadata": {},
   "outputs": [],
   "source": [
    "%matplotlib inline"
   ]
  },
  {
   "cell_type": "code",
   "execution_count": 9,
   "metadata": {},
   "outputs": [],
   "source": [
    "####################################\n",
    "#--       INPUT VARIABLES       \n",
    "####################################\n",
    "data_input_dir = \"02_data/input/\"\n",
    "data_intermediate_dir = \"02_data/intermediate/\"\n",
    "data_output_dir = \"02_data/output/\"\n",
    "models_prod_dir = \"03_models/prod/\"\n",
    "models_archive_dir = \"03_models/archive/\"\n",
    "#-- Change to project directory\n",
    "path = 'C:/Users/Mohamed Ibrahim/Box Sync/FX_DATASCIENCE/main_fx'\n",
    "import os\n",
    "#-- Change to project home directory\n",
    "os.chdir(path)\n",
    "exec(open(\"01_code/prod/P1_functions.py\").read())\n"
   ]
  },
  {
   "cell_type": "code",
   "execution_count": 10,
   "metadata": {},
   "outputs": [],
   "source": [
    "df = pd.read_csv(data_input_dir+\"dt_all_min.csv\")"
   ]
  },
  {
   "cell_type": "code",
   "execution_count": 11,
   "metadata": {},
   "outputs": [
    {
     "data": {
      "text/html": [
       "<div>\n",
       "<style scoped>\n",
       "    .dataframe tbody tr th:only-of-type {\n",
       "        vertical-align: middle;\n",
       "    }\n",
       "\n",
       "    .dataframe tbody tr th {\n",
       "        vertical-align: top;\n",
       "    }\n",
       "\n",
       "    .dataframe thead th {\n",
       "        text-align: right;\n",
       "    }\n",
       "</style>\n",
       "<table border=\"1\" class=\"dataframe\">\n",
       "  <thead>\n",
       "    <tr style=\"text-align: right;\">\n",
       "      <th></th>\n",
       "      <th>Time</th>\n",
       "      <th>Open_EURUSD</th>\n",
       "      <th>High_EURUSD</th>\n",
       "      <th>Low_EURUSD</th>\n",
       "      <th>Close_EURUSD</th>\n",
       "      <th>Open_USDJPY</th>\n",
       "      <th>High_USDJPY</th>\n",
       "      <th>Low_USDJPY</th>\n",
       "      <th>Close_USDJPY</th>\n",
       "      <th>Open_GBPUSD</th>\n",
       "      <th>...</th>\n",
       "      <th>Low_NZDUSD</th>\n",
       "      <th>Close_NZDUSD</th>\n",
       "      <th>Open_AUDUSD</th>\n",
       "      <th>High_AUDUSD</th>\n",
       "      <th>Low_AUDUSD</th>\n",
       "      <th>Close_AUDUSD</th>\n",
       "      <th>Open_XAUUSD</th>\n",
       "      <th>High_XAUUSD</th>\n",
       "      <th>Low_XAUUSD</th>\n",
       "      <th>Close_XAUUSD</th>\n",
       "    </tr>\n",
       "  </thead>\n",
       "  <tbody>\n",
       "    <tr>\n",
       "      <th>0</th>\n",
       "      <td>2004-06-01 00:00:00</td>\n",
       "      <td>1.21912</td>\n",
       "      <td>1.21931</td>\n",
       "      <td>1.21899</td>\n",
       "      <td>1.21931</td>\n",
       "      <td>109.45</td>\n",
       "      <td>109.46</td>\n",
       "      <td>109.45</td>\n",
       "      <td>109.45</td>\n",
       "      <td>1.83274</td>\n",
       "      <td>...</td>\n",
       "      <td>0.63280</td>\n",
       "      <td>0.63280</td>\n",
       "      <td>0.7157</td>\n",
       "      <td>0.7158</td>\n",
       "      <td>0.7157</td>\n",
       "      <td>0.7157</td>\n",
       "      <td>394.873</td>\n",
       "      <td>394.873</td>\n",
       "      <td>394.873</td>\n",
       "      <td>394.873</td>\n",
       "    </tr>\n",
       "    <tr>\n",
       "      <th>1</th>\n",
       "      <td>2004-06-01 00:01:00</td>\n",
       "      <td>1.21909</td>\n",
       "      <td>1.21943</td>\n",
       "      <td>1.21909</td>\n",
       "      <td>1.21938</td>\n",
       "      <td>109.42</td>\n",
       "      <td>109.45</td>\n",
       "      <td>109.39</td>\n",
       "      <td>109.42</td>\n",
       "      <td>1.83243</td>\n",
       "      <td>...</td>\n",
       "      <td>0.63295</td>\n",
       "      <td>0.63295</td>\n",
       "      <td>0.7157</td>\n",
       "      <td>0.7161</td>\n",
       "      <td>0.7157</td>\n",
       "      <td>0.7161</td>\n",
       "      <td>394.873</td>\n",
       "      <td>394.873</td>\n",
       "      <td>394.873</td>\n",
       "      <td>394.873</td>\n",
       "    </tr>\n",
       "    <tr>\n",
       "      <th>2</th>\n",
       "      <td>2004-06-01 00:02:00</td>\n",
       "      <td>1.21913</td>\n",
       "      <td>1.21945</td>\n",
       "      <td>1.21912</td>\n",
       "      <td>1.21913</td>\n",
       "      <td>109.43</td>\n",
       "      <td>109.47</td>\n",
       "      <td>109.41</td>\n",
       "      <td>109.41</td>\n",
       "      <td>1.83310</td>\n",
       "      <td>...</td>\n",
       "      <td>0.63288</td>\n",
       "      <td>0.63330</td>\n",
       "      <td>0.7161</td>\n",
       "      <td>0.7161</td>\n",
       "      <td>0.7157</td>\n",
       "      <td>0.7157</td>\n",
       "      <td>394.873</td>\n",
       "      <td>394.873</td>\n",
       "      <td>394.873</td>\n",
       "      <td>394.873</td>\n",
       "    </tr>\n",
       "    <tr>\n",
       "      <th>3</th>\n",
       "      <td>2004-06-01 00:03:00</td>\n",
       "      <td>1.21920</td>\n",
       "      <td>1.21937</td>\n",
       "      <td>1.21909</td>\n",
       "      <td>1.21937</td>\n",
       "      <td>109.41</td>\n",
       "      <td>109.44</td>\n",
       "      <td>109.40</td>\n",
       "      <td>109.41</td>\n",
       "      <td>1.83285</td>\n",
       "      <td>...</td>\n",
       "      <td>0.63335</td>\n",
       "      <td>0.63345</td>\n",
       "      <td>0.7157</td>\n",
       "      <td>0.7160</td>\n",
       "      <td>0.7157</td>\n",
       "      <td>0.7159</td>\n",
       "      <td>394.873</td>\n",
       "      <td>394.873</td>\n",
       "      <td>394.873</td>\n",
       "      <td>394.873</td>\n",
       "    </tr>\n",
       "    <tr>\n",
       "      <th>4</th>\n",
       "      <td>2004-06-01 00:04:00</td>\n",
       "      <td>1.21926</td>\n",
       "      <td>1.21944</td>\n",
       "      <td>1.21918</td>\n",
       "      <td>1.21930</td>\n",
       "      <td>109.43</td>\n",
       "      <td>109.45</td>\n",
       "      <td>109.39</td>\n",
       "      <td>109.39</td>\n",
       "      <td>1.83261</td>\n",
       "      <td>...</td>\n",
       "      <td>0.63307</td>\n",
       "      <td>0.63338</td>\n",
       "      <td>0.7161</td>\n",
       "      <td>0.7163</td>\n",
       "      <td>0.7159</td>\n",
       "      <td>0.7162</td>\n",
       "      <td>394.873</td>\n",
       "      <td>394.873</td>\n",
       "      <td>394.873</td>\n",
       "      <td>394.873</td>\n",
       "    </tr>\n",
       "  </tbody>\n",
       "</table>\n",
       "<p>5 rows × 33 columns</p>\n",
       "</div>"
      ],
      "text/plain": [
       "                  Time  Open_EURUSD  High_EURUSD  Low_EURUSD  Close_EURUSD  \\\n",
       "0  2004-06-01 00:00:00      1.21912      1.21931     1.21899       1.21931   \n",
       "1  2004-06-01 00:01:00      1.21909      1.21943     1.21909       1.21938   \n",
       "2  2004-06-01 00:02:00      1.21913      1.21945     1.21912       1.21913   \n",
       "3  2004-06-01 00:03:00      1.21920      1.21937     1.21909       1.21937   \n",
       "4  2004-06-01 00:04:00      1.21926      1.21944     1.21918       1.21930   \n",
       "\n",
       "   Open_USDJPY  High_USDJPY  Low_USDJPY  Close_USDJPY  Open_GBPUSD  ...  \\\n",
       "0       109.45       109.46      109.45        109.45      1.83274  ...   \n",
       "1       109.42       109.45      109.39        109.42      1.83243  ...   \n",
       "2       109.43       109.47      109.41        109.41      1.83310  ...   \n",
       "3       109.41       109.44      109.40        109.41      1.83285  ...   \n",
       "4       109.43       109.45      109.39        109.39      1.83261  ...   \n",
       "\n",
       "   Low_NZDUSD  Close_NZDUSD  Open_AUDUSD  High_AUDUSD  Low_AUDUSD  \\\n",
       "0     0.63280       0.63280       0.7157       0.7158      0.7157   \n",
       "1     0.63295       0.63295       0.7157       0.7161      0.7157   \n",
       "2     0.63288       0.63330       0.7161       0.7161      0.7157   \n",
       "3     0.63335       0.63345       0.7157       0.7160      0.7157   \n",
       "4     0.63307       0.63338       0.7161       0.7163      0.7159   \n",
       "\n",
       "   Close_AUDUSD  Open_XAUUSD  High_XAUUSD  Low_XAUUSD  Close_XAUUSD  \n",
       "0        0.7157      394.873      394.873     394.873       394.873  \n",
       "1        0.7161      394.873      394.873     394.873       394.873  \n",
       "2        0.7157      394.873      394.873     394.873       394.873  \n",
       "3        0.7159      394.873      394.873     394.873       394.873  \n",
       "4        0.7162      394.873      394.873     394.873       394.873  \n",
       "\n",
       "[5 rows x 33 columns]"
      ]
     },
     "execution_count": 11,
     "metadata": {},
     "output_type": "execute_result"
    }
   ],
   "source": [
    "df.head()"
   ]
  },
  {
   "cell_type": "code",
   "execution_count": 16,
   "metadata": {},
   "outputs": [
    {
     "data": {
      "text/plain": [
       "<matplotlib.axes._subplots.AxesSubplot at 0x263c4078320>"
      ]
     },
     "execution_count": 16,
     "metadata": {},
     "output_type": "execute_result"
    },
    {
     "data": {
      "image/png": "[encoded data removed]",
      "text/plain": [
       "<Figure size 432x288 with 1 Axes>"
      ]
     },
     "metadata": {
      "needs_background": "light"
     },
     "output_type": "display_data"
    }
   ],
   "source": [
    "df[['Close_EURUSD','Close_GBPUSD']].plot.line()"
   ]
  },
  {
   "cell_type": "code",
   "execution_count": 20,
   "metadata": {},
   "outputs": [],
   "source": [
    "dd = df[['Time','Open_EURUSD','High_EURUSD','Low_EURUSD','Close_EURUSD']]"
   ]
  },
  {
   "cell_type": "code",
   "execution_count": 21,
   "metadata": {},
   "outputs": [
    {
     "name": "stderr",
     "output_type": "stream",
     "text": [
      "C:\\python37\\lib\\site-packages\\ipykernel_launcher.py:1: SettingWithCopyWarning: \n",
      "A value is trying to be set on a copy of a slice from a DataFrame.\n",
      "Try using .loc[row_indexer,col_indexer] = value instead\n",
      "\n",
      "See the caveats in the documentation: http://pandas.pydata.org/pandas-docs/stable/indexing.html#indexing-view-versus-copy\n",
      "  \"\"\"Entry point for launching an IPython kernel.\n"
     ]
    }
   ],
   "source": [
    "dd['Time'] = pd.to_datetime(dd['Time'])"
   ]
  },
  {
   "cell_type": "code",
   "execution_count": 22,
   "metadata": {},
   "outputs": [],
   "source": [
    "dd.set_index('Time', inplace=True)"
   ]
  },
  {
   "cell_type": "code",
   "execution_count": 23,
   "metadata": {},
   "outputs": [
    {
     "data": {
      "text/html": [
       "<div>\n",
       "<style scoped>\n",
       "    .dataframe tbody tr th:only-of-type {\n",
       "        vertical-align: middle;\n",
       "    }\n",
       "\n",
       "    .dataframe tbody tr th {\n",
       "        vertical-align: top;\n",
       "    }\n",
       "\n",
       "    .dataframe thead th {\n",
       "        text-align: right;\n",
       "    }\n",
       "</style>\n",
       "<table border=\"1\" class=\"dataframe\">\n",
       "  <thead>\n",
       "    <tr style=\"text-align: right;\">\n",
       "      <th></th>\n",
       "      <th>Open_EURUSD</th>\n",
       "      <th>High_EURUSD</th>\n",
       "      <th>Low_EURUSD</th>\n",
       "      <th>Close_EURUSD</th>\n",
       "    </tr>\n",
       "    <tr>\n",
       "      <th>Time</th>\n",
       "      <th></th>\n",
       "      <th></th>\n",
       "      <th></th>\n",
       "      <th></th>\n",
       "    </tr>\n",
       "  </thead>\n",
       "  <tbody>\n",
       "    <tr>\n",
       "      <th>2004-06-01 00:00:00</th>\n",
       "      <td>1.21912</td>\n",
       "      <td>1.21931</td>\n",
       "      <td>1.21899</td>\n",
       "      <td>1.21931</td>\n",
       "    </tr>\n",
       "    <tr>\n",
       "      <th>2004-06-01 00:01:00</th>\n",
       "      <td>1.21909</td>\n",
       "      <td>1.21943</td>\n",
       "      <td>1.21909</td>\n",
       "      <td>1.21938</td>\n",
       "    </tr>\n",
       "    <tr>\n",
       "      <th>2004-06-01 00:02:00</th>\n",
       "      <td>1.21913</td>\n",
       "      <td>1.21945</td>\n",
       "      <td>1.21912</td>\n",
       "      <td>1.21913</td>\n",
       "    </tr>\n",
       "    <tr>\n",
       "      <th>2004-06-01 00:03:00</th>\n",
       "      <td>1.21920</td>\n",
       "      <td>1.21937</td>\n",
       "      <td>1.21909</td>\n",
       "      <td>1.21937</td>\n",
       "    </tr>\n",
       "    <tr>\n",
       "      <th>2004-06-01 00:04:00</th>\n",
       "      <td>1.21926</td>\n",
       "      <td>1.21944</td>\n",
       "      <td>1.21918</td>\n",
       "      <td>1.21930</td>\n",
       "    </tr>\n",
       "  </tbody>\n",
       "</table>\n",
       "</div>"
      ],
      "text/plain": [
       "                     Open_EURUSD  High_EURUSD  Low_EURUSD  Close_EURUSD\n",
       "Time                                                                   \n",
       "2004-06-01 00:00:00      1.21912      1.21931     1.21899       1.21931\n",
       "2004-06-01 00:01:00      1.21909      1.21943     1.21909       1.21938\n",
       "2004-06-01 00:02:00      1.21913      1.21945     1.21912       1.21913\n",
       "2004-06-01 00:03:00      1.21920      1.21937     1.21909       1.21937\n",
       "2004-06-01 00:04:00      1.21926      1.21944     1.21918       1.21930"
      ]
     },
     "execution_count": 23,
     "metadata": {},
     "output_type": "execute_result"
    }
   ],
   "source": [
    "dd.head()"
   ]
  },
  {
   "cell_type": "code",
   "execution_count": 30,
   "metadata": {},
   "outputs": [],
   "source": [
    "dd = dd.resample('B').agg({'Open_EURUSD': 'first','High_EURUSD': 'max', \n",
    "                                         'Low_EURUSD': 'min', \n",
    "                                         'Close_EURUSD': 'last'})"
   ]
  },
  {
   "cell_type": "code",
   "execution_count": 31,
   "metadata": {},
   "outputs": [
    {
     "data": {
      "text/html": [
       "<div>\n",
       "<style scoped>\n",
       "    .dataframe tbody tr th:only-of-type {\n",
       "        vertical-align: middle;\n",
       "    }\n",
       "\n",
       "    .dataframe tbody tr th {\n",
       "        vertical-align: top;\n",
       "    }\n",
       "\n",
       "    .dataframe thead th {\n",
       "        text-align: right;\n",
       "    }\n",
       "</style>\n",
       "<table border=\"1\" class=\"dataframe\">\n",
       "  <thead>\n",
       "    <tr style=\"text-align: right;\">\n",
       "      <th></th>\n",
       "      <th>Open_EURUSD</th>\n",
       "      <th>High_EURUSD</th>\n",
       "      <th>Low_EURUSD</th>\n",
       "      <th>Close_EURUSD</th>\n",
       "    </tr>\n",
       "    <tr>\n",
       "      <th>Time</th>\n",
       "      <th></th>\n",
       "      <th></th>\n",
       "      <th></th>\n",
       "      <th></th>\n",
       "    </tr>\n",
       "  </thead>\n",
       "  <tbody>\n",
       "    <tr>\n",
       "      <th>2004-06-01</th>\n",
       "      <td>1.21912</td>\n",
       "      <td>1.22657</td>\n",
       "      <td>1.21543</td>\n",
       "      <td>1.22396</td>\n",
       "    </tr>\n",
       "    <tr>\n",
       "      <th>2004-06-02</th>\n",
       "      <td>1.22385</td>\n",
       "      <td>1.23030</td>\n",
       "      <td>1.22030</td>\n",
       "      <td>1.22093</td>\n",
       "    </tr>\n",
       "    <tr>\n",
       "      <th>2004-06-03</th>\n",
       "      <td>1.22067</td>\n",
       "      <td>1.22496</td>\n",
       "      <td>1.21680</td>\n",
       "      <td>1.22137</td>\n",
       "    </tr>\n",
       "    <tr>\n",
       "      <th>2004-06-04</th>\n",
       "      <td>1.22170</td>\n",
       "      <td>1.22997</td>\n",
       "      <td>1.21395</td>\n",
       "      <td>1.22939</td>\n",
       "    </tr>\n",
       "    <tr>\n",
       "      <th>2004-06-07</th>\n",
       "      <td>1.22980</td>\n",
       "      <td>1.23373</td>\n",
       "      <td>1.22885</td>\n",
       "      <td>1.23134</td>\n",
       "    </tr>\n",
       "  </tbody>\n",
       "</table>\n",
       "</div>"
      ],
      "text/plain": [
       "            Open_EURUSD  High_EURUSD  Low_EURUSD  Close_EURUSD\n",
       "Time                                                          \n",
       "2004-06-01      1.21912      1.22657     1.21543       1.22396\n",
       "2004-06-02      1.22385      1.23030     1.22030       1.22093\n",
       "2004-06-03      1.22067      1.22496     1.21680       1.22137\n",
       "2004-06-04      1.22170      1.22997     1.21395       1.22939\n",
       "2004-06-07      1.22980      1.23373     1.22885       1.23134"
      ]
     },
     "execution_count": 31,
     "metadata": {},
     "output_type": "execute_result"
    }
   ],
   "source": [
    "dd.head()"
   ]
  },
  {
   "cell_type": "code",
   "execution_count": 32,
   "metadata": {},
   "outputs": [],
   "source": [
    "dd['ret'] = dd['Close_EURUSD']-dd['Close_EURUSD'].shift(1)"
   ]
  },
  {
   "cell_type": "code",
   "execution_count": 33,
   "metadata": {},
   "outputs": [
    {
     "data": {
      "text/html": [
       "<div>\n",
       "<style scoped>\n",
       "    .dataframe tbody tr th:only-of-type {\n",
       "        vertical-align: middle;\n",
       "    }\n",
       "\n",
       "    .dataframe tbody tr th {\n",
       "        vertical-align: top;\n",
       "    }\n",
       "\n",
       "    .dataframe thead th {\n",
       "        text-align: right;\n",
       "    }\n",
       "</style>\n",
       "<table border=\"1\" class=\"dataframe\">\n",
       "  <thead>\n",
       "    <tr style=\"text-align: right;\">\n",
       "      <th></th>\n",
       "      <th>Open_EURUSD</th>\n",
       "      <th>High_EURUSD</th>\n",
       "      <th>Low_EURUSD</th>\n",
       "      <th>Close_EURUSD</th>\n",
       "      <th>ret</th>\n",
       "    </tr>\n",
       "    <tr>\n",
       "      <th>Time</th>\n",
       "      <th></th>\n",
       "      <th></th>\n",
       "      <th></th>\n",
       "      <th></th>\n",
       "      <th></th>\n",
       "    </tr>\n",
       "  </thead>\n",
       "  <tbody>\n",
       "    <tr>\n",
       "      <th>2004-06-01</th>\n",
       "      <td>1.21912</td>\n",
       "      <td>1.22657</td>\n",
       "      <td>1.21543</td>\n",
       "      <td>1.22396</td>\n",
       "      <td>NaN</td>\n",
       "    </tr>\n",
       "    <tr>\n",
       "      <th>2004-06-02</th>\n",
       "      <td>1.22385</td>\n",
       "      <td>1.23030</td>\n",
       "      <td>1.22030</td>\n",
       "      <td>1.22093</td>\n",
       "      <td>-0.00303</td>\n",
       "    </tr>\n",
       "    <tr>\n",
       "      <th>2004-06-03</th>\n",
       "      <td>1.22067</td>\n",
       "      <td>1.22496</td>\n",
       "      <td>1.21680</td>\n",
       "      <td>1.22137</td>\n",
       "      <td>0.00044</td>\n",
       "    </tr>\n",
       "    <tr>\n",
       "      <th>2004-06-04</th>\n",
       "      <td>1.22170</td>\n",
       "      <td>1.22997</td>\n",
       "      <td>1.21395</td>\n",
       "      <td>1.22939</td>\n",
       "      <td>0.00802</td>\n",
       "    </tr>\n",
       "    <tr>\n",
       "      <th>2004-06-07</th>\n",
       "      <td>1.22980</td>\n",
       "      <td>1.23373</td>\n",
       "      <td>1.22885</td>\n",
       "      <td>1.23134</td>\n",
       "      <td>0.00195</td>\n",
       "    </tr>\n",
       "  </tbody>\n",
       "</table>\n",
       "</div>"
      ],
      "text/plain": [
       "            Open_EURUSD  High_EURUSD  Low_EURUSD  Close_EURUSD      ret\n",
       "Time                                                                   \n",
       "2004-06-01      1.21912      1.22657     1.21543       1.22396      NaN\n",
       "2004-06-02      1.22385      1.23030     1.22030       1.22093 -0.00303\n",
       "2004-06-03      1.22067      1.22496     1.21680       1.22137  0.00044\n",
       "2004-06-04      1.22170      1.22997     1.21395       1.22939  0.00802\n",
       "2004-06-07      1.22980      1.23373     1.22885       1.23134  0.00195"
      ]
     },
     "execution_count": 33,
     "metadata": {},
     "output_type": "execute_result"
    }
   ],
   "source": [
    "dd.head()"
   ]
  },
  {
   "cell_type": "code",
   "execution_count": 35,
   "metadata": {},
   "outputs": [
    {
     "data": {
      "text/plain": [
       "<matplotlib.axes._subplots.AxesSubplot at 0x263c41d0630>"
      ]
     },
     "execution_count": 35,
     "metadata": {},
     "output_type": "execute_result"
    },
    {
     "data": {
      "image/png": "[encoded data removed]",
      "text/plain": [
       "<Figure size 432x288 with 1 Axes>"
      ]
     },
     "metadata": {
      "needs_background": "light"
     },
     "output_type": "display_data"
    }
   ],
   "source": [
    "dd['ret'].plot.hist(bins=50)"
   ]
  },
  {
   "cell_type": "code",
   "execution_count": 54,
   "metadata": {},
   "outputs": [
    {
     "ename": "NameError",
     "evalue": "name 'statsmodels' is not defined",
     "output_type": "error",
     "traceback": [
      "\u001b[1;31m---------------------------------------------------------------------------\u001b[0m",
      "\u001b[1;31mNameError\u001b[0m                                 Traceback (most recent call last)",
      "\u001b[1;32m<ipython-input-54-4bc0e8cf3c9e>\u001b[0m in \u001b[0;36m<module>\u001b[1;34m\u001b[0m\n\u001b[1;32m----> 1\u001b[1;33m \u001b[0mstatsmodels\u001b[0m\u001b[1;33m.\u001b[0m\u001b[0mtsa\u001b[0m\u001b[1;33m.\u001b[0m\u001b[0mstattools\u001b[0m\u001b[1;33m.\u001b[0m\u001b[0madfuller\u001b[0m\u001b[1;33m(\u001b[0m\u001b[0mdd\u001b[0m\u001b[1;33m[\u001b[0m\u001b[1;34m'ret'\u001b[0m\u001b[1;33m]\u001b[0m\u001b[1;33m)\u001b[0m\u001b[1;33m\u001b[0m\u001b[1;33m\u001b[0m\u001b[0m\n\u001b[0m",
      "\u001b[1;31mNameError\u001b[0m: name 'statsmodels' is not defined"
     ]
    }
   ],
   "source": [
    "statsmodels.tsa.stattools.adfuller(dd['ret'])"
   ]
  },
  {
   "cell_type": "code",
   "execution_count": 52,
   "metadata": {},
   "outputs": [],
   "source": [
    "w, h = signal.freqz(b=[1,-1], a= [0,-1])"
   ]
  },
  {
   "cell_type": "code",
   "execution_count": 53,
   "metadata": {},
   "outputs": [
    {
     "name": "stderr",
     "output_type": "stream",
     "text": [
      "C:\\python37\\lib\\site-packages\\ipykernel_launcher.py:1: RuntimeWarning: divide by zero encountered in log10\n",
      "  \"\"\"Entry point for launching an IPython kernel.\n"
     ]
    },
    {
     "data": {
      "text/plain": [
       "[<matplotlib.lines.Line2D at 0x263c5f571d0>]"
      ]
     },
     "execution_count": 53,
     "metadata": {},
     "output_type": "execute_result"
    },
    {
     "data": {
      "image/png": "[encoded data removed]",
      "text/plain": [
       "<Figure size 432x288 with 1 Axes>"
      ]
     },
     "metadata": {
      "needs_background": "light"
     },
     "output_type": "display_data"
    }
   ],
   "source": [
    "plt.plot(20 * np.log10(abs(h)))"
   ]
  },
  {
   "cell_type": "code",
   "execution_count": null,
   "metadata": {},
   "outputs": [],
   "source": []
  }
 ],
 "metadata": {
  "kernelspec": {
   "display_name": "Python 3",
   "language": "python",
   "name": "python3"
  },
  "language_info": {
   "codemirror_mode": {
    "name": "ipython",
    "version": 3
   },
   "file_extension": ".py",
   "mimetype": "text/x-python",
   "name": "python",
   "nbconvert_exporter": "python",
   "pygments_lexer": "ipython3",
   "version": "3.7.3"
  }
 },
 "nbformat": 4,
 "nbformat_minor": 2
}
